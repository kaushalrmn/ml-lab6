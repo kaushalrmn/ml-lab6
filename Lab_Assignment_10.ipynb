{
  "cells": [
    {
      "cell_type": "markdown",
      "metadata": {
        "id": "ctfWKHOmquaz"
      },
      "source": [
        "## Lab Assignment 10: <br>\n",
        "### Student Name: Ramandeep Kaur\n",
        "### Student ID: 8976849"
      ]
    },
    {
      "cell_type": "markdown",
      "metadata": {
        "id": "oVw0QqkVqua3"
      },
      "source": [
        "This assignment targets to assure that the students understood basic IR concepts.<br>"
      ]
    },
    {
      "cell_type": "markdown",
      "metadata": {
        "id": "wk2r2Hlqqua3"
      },
      "source": [
        "**Part 1: Implementing an IR System (10/16)**<br>\n",
        "\n",
        "Consider a collection of 1000 documents and a set of 10 queries. Implement an IR system based on the Vector Space Model (VSM) using TF-IDF weighting.<br>\n",
        "\n",
        "Dataset:<br>\n",
        "\n",
        "- 1000 documents (text content for each document)\n",
        "- 10 sample queries <br>\n",
        "IR System:<br>\n",
        "\n",
        "Implement TF-IDF calculation for document-term matrix construction. <br>\n",
        "Develop a cosine similarity-based retrieval system to rank documents for each query. <br>\n",
        "Rank the top 10 documents for each query using the IR system. <br>\n",
        "Evaluation: <br>\n",
        "\n",
        "Compute Precision at k (P@k) for k=5, k=6, and k=10 for each query.<br>\n",
        "Calculate Mean Average Precision (MAP) across all queries. <br>\n",
        "Calculate the Mean Reciprocal Rank (MRR) across all queries.(3) <br><br>\n",
        "**Part 2: Assessing Inter-Annotator Agreement (6/16)**<br>\n",
        "\n",
        "Given the relevance assessments by three different annotators for a set of documents:<br>\n",
        "\n",
        "Annotator 1,2 and 3 relevance assessments<br>\n",
        "\n",
        "You are expected to: <br>\n",
        "\n",
        "Compute pairwise Cohen's Kappa values for the annotators' relevance assessments.<br>\n",
        "Discuss the observed agreement levels among annotators.<br>\n",
        "Explain how to improve the kappa value if we are not satisfied with the kappa.<br>\n",
        "Hint: Check Kappa Measure Last Slide Week 11\n"
      ]
    },
    {
      "cell_type": "markdown",
      "metadata": {
        "id": "OqJi2K2aqua4"
      },
      "source": [
        "----------------------------------------------------------------------------------------\n",
        "- Part 1"
      ]
    },
    {
      "cell_type": "code",
      "execution_count": 5,
      "metadata": {
        "colab": {
          "base_uri": "https://localhost:8080/"
        },
        "id": "m1gkeiNuqua4",
        "outputId": "f2218fb6-ab02-4a3a-d30d-337ba27a1211"
      },
      "outputs": [
        {
          "output_type": "stream",
          "name": "stdout",
          "text": [
            "100\n"
          ]
        }
      ],
      "source": [
        "documents = [\n",
        "    \"Machine learning is transforming various industries.\",\n",
        "    \"Natural language processing helps in text analysis.\",\n",
        "    \"AI algorithms can improve decision-making processes.\",\n",
        "    \"Data science involves extracting insights from data.\",\n",
        "    \"Robotics is a field combining hardware and software.\",\n",
        "    \"Deep learning models require large amounts of data.\",\n",
        "    \"Blockchain technology secures digital transactions.\",\n",
        "    \"Cloud computing offers scalable computing power.\",\n",
        "    \"Virtual reality provides immersive experiences.\",\n",
        "    \"Augmented reality enhances real-world environments.\",\n",
        "    \"Internet of Things connects devices for data exchange.\",\n",
        "    \"Biometric authentication ensures secure access.\",\n",
        "    \"Quantum computing promises faster computations.\",\n",
        "    \"Cybersecurity protects against digital threats.\",\n",
        "    \"Ethical considerations in AI development are crucial.\",\n",
        "    \"Healthcare benefits from AI-driven diagnostics.\",\n",
        "    \"E-commerce relies on personalized recommendation systems.\",\n",
        "    \"Autonomous vehicles revolutionize transportation.\",\n",
        "    \"Smart cities utilize IoT for efficient operations.\",\n",
        "    \"Social media analysis aids in understanding trends.\",\n",
        "    \"Predictive analytics anticipates future outcomes.\",\n",
        "    \"Remote work trends increase reliance on digital tools.\",\n",
        "    \"Energy efficiency through smart grids is vital.\",\n",
        "    \"Fintech innovations reshape financial services.\",\n",
        "    \"Data privacy concerns arise in the era of big data.\",\n",
        "    \"Artificial general intelligence remains a challenge.\",\n",
        "    \"Human-computer interaction shapes user experiences.\",\n",
        "    \"Big data analytics drives informed decision-making.\",\n",
        "    \"Climate change predictions benefit from AI models.\",\n",
        "    \"Bioinformatics applies computational techniques to biology.\",\n",
        "    \"Robotic process automation streamlines workflows.\",\n",
        "    \"Industry 4.0 integrates AI with manufacturing.\",\n",
        "    \"Sentiment analysis detects emotions in text data.\",\n",
        "    \"Reinforcement learning powers autonomous agents.\",\n",
        "    \"Data visualization simplifies complex information.\",\n",
        "    \"Edge computing reduces latency in data processing.\",\n",
        "    \"Smart farming optimizes agricultural practices.\",\n",
        "    \"AI in education enhances personalized learning.\",\n",
        "    \"Natural disaster predictions leverage machine learning.\",\n",
        "    \"Media recommendation systems personalize content.\",\n",
        "    \"Speech recognition enables hands-free interactions.\",\n",
        "    \"Genetic algorithms mimic natural selection.\",\n",
        "    \"Neural networks simulate the human brain.\",\n",
        "    \"Behavioral analytics uncovers patterns in behavior.\",\n",
        "    \"Spatial analysis benefits from geospatial data.\",\n",
        "    \"Explainable AI improves transparency in models.\",\n",
        "    \"AI ethics guide responsible technology development.\",\n",
        "    \"Prescriptive analytics offers actionable insights.\",\n",
        "    \"Supply chain optimization employs predictive models.\",\n",
        "    \"Emotion AI detects emotions in facial expressions.\",\n",
        "    \"Distributed ledger technology ensures secure transactions.\",\n",
        "    \"Biological data analysis aids in medical research.\",\n",
        "    \"Smart grid technology enhances energy distribution.\",\n",
        "    \"AI-powered chatbots automate customer support.\",\n",
        "    \"Machine translation breaks language barriers.\",\n",
        "    \"Personalized medicine tailors treatments to individuals.\",\n",
        "    \"Data-driven marketing optimizes customer engagement.\",\n",
        "    \"Smart home devices enhance living experiences.\",\n",
        "    \"Time series forecasting predicts future trends.\",\n",
        "    \"AI-driven creativity challenges human capabilities.\",\n",
        "    \"Intelligent document processing automates data extraction.\",\n",
        "    \"Graph analytics explores relationships in networks.\",\n",
        "    \"Adversarial attacks pose challenges to AI security.\",\n",
        "    \"Predictive maintenance minimizes equipment downtime.\",\n",
        "    \"Spatial reasoning enhances AI navigation systems.\",\n",
        "    \"Privacy-preserving techniques protect sensitive data.\",\n",
        "    \"Automated decision-making raises ethical concerns.\",\n",
        "    \"Behavioral biometrics verifies user identities.\",\n",
        "    \"Explainable recommendations increase user trust.\",\n",
        "    \"Quantum machine learning explores quantum states.\",\n",
        "    \"Internet censorship detection uses AI techniques.\",\n",
        "    \"Smart wearables monitor health and fitness.\",\n",
        "    \"Intelligent tutoring systems adapt to student needs.\",\n",
        "    \"Graph neural networks model complex relationships.\",\n",
        "    \"AI in sports analytics improves performance analysis.\",\n",
        "    \"Facial recognition technology raises privacy debates.\",\n",
        "    \"Digital twin technology replicates physical systems.\",\n",
        "    \"Emotion detection in video content aids analysis.\",\n",
        "    \"Neuromorphic computing mimics brain structure.\",\n",
        "    \"Robotic surgery enhances precision in operations.\",\n",
        "    \"AI-powered language translation assists global communication.\",\n",
        "    \"Automated content moderation filters online content.\",\n",
        "    \"Network anomaly detection identifies security threats.\",\n",
        "    \"Predictive policing uses data to prevent crime.\",\n",
        "    \"Quantum cryptography ensures secure communications.\",\n",
        "    \"AI-generated art challenges traditional creativity.\",\n",
        "    \"Ethical considerations in autonomous vehicles are debated.\",\n",
        "    \"Adaptive learning systems personalize educational content.\",\n",
        "    \"Biomedical image analysis aids in disease diagnosis.\",\n",
        "    \"Explainable computer vision interprets image features.\",\n",
        "    \"AI-driven personalization enhances user experiences.\",\n",
        "    \"Conversational AI improves human-like interactions.\",\n",
        "    \"Federated learning protects individual data privacy.\",\n",
        "    \"Human-centered AI design prioritizes user needs.\",\n",
        "    \"Quantum annealing solves optimization problems.\",\n",
        "    \"Behavior-based authentication enhances security.\",\n",
        "    \"AI in music composition transforms creative processes.\",\n",
        "    \"Semantic search improves information retrieval.\",\n",
        "    \"Recommender systems optimize user preferences.\",\n",
        "    \"Information Retrieval systems are outdated without neural networks\"\n",
        "]\n",
        "print(len(documents))"
      ]
    },
    {
      "cell_type": "code",
      "execution_count": 6,
      "metadata": {
        "colab": {
          "base_uri": "https://localhost:8080/"
        },
        "id": "KPrVwy39qua6",
        "outputId": "265fa9b9-8511-42a0-b8f4-6561875c55d1"
      },
      "outputs": [
        {
          "output_type": "stream",
          "name": "stdout",
          "text": [
            "10\n"
          ]
        }
      ],
      "source": [
        "queries = [\n",
        "    \"What are the impacts of AI on healthcare?\",\n",
        "    \"How does machine learning improve financial services?\",\n",
        "    \"What is the role of AI in autonomous vehicles?\",\n",
        "    \"Explain the applications of natural language processing.\",\n",
        "    \"How does robotics benefit from AI integration?\",\n",
        "    \"What are the challenges in implementing AI in education?\",\n",
        "    \"How does data science contribute to climate change predictions?\",\n",
        "    \"What are the ethical considerations in AI development?\",\n",
        "    \"Explain the significance of AI in smart cities.\",\n",
        "    \"How does AI enhance cybersecurity measures?\"\n",
        "]\n",
        "print(len(queries))"
      ]
    },
    {
      "cell_type": "code",
      "execution_count": 8,
      "metadata": {
        "colab": {
          "base_uri": "https://localhost:8080/"
        },
        "id": "LnTW-oFQqua6",
        "outputId": "d0674c45-4fc3-4704-fdab-f9959f99a633"
      },
      "outputs": [
        {
          "output_type": "stream",
          "name": "stdout",
          "text": [
            "10\n"
          ]
        }
      ],
      "source": [
        "ground_truth =[[3, 74, 38, 92, 71, 72, 98, 48, 18, 100],\n",
        "                [12, 26, 52, 54, 21, 63, 64, 45, 14, 83],\n",
        "                [58, 77, 62, 31, 6, 61, 36, 96, 85, 18],\n",
        "                [99, 62, 98, 34, 63, 79, 43, 31, 3, 16],\n",
        "                [8, 88, 73, 82, 37, 25, 34, 87, 66, 58],\n",
        "                [90, 40, 84, 64, 34, 2, 73, 23, 59, 89],\n",
        "                [80, 10, 86, 21, 68, 37, 83, 57, 6, 98],\n",
        "                [22, 3, 2, 44, 56, 80, 50, 63, 87, 13],\n",
        "                [1, 18, 22, 44, 99, 72, 24, 95, 10, 87],\n",
        "                [31, 10, 56, 50, 75, 4, 18, 85, 84, 74]\n",
        "                           ]\n",
        "print(len(ground_truth))\n"
      ]
    },
    {
      "cell_type": "code",
      "execution_count": 9,
      "metadata": {
        "colab": {
          "base_uri": "https://localhost:8080/"
        },
        "id": "rffodS6kqua7",
        "outputId": "fde2dfb9-270b-43a0-c34d-ef7a9cee7216"
      },
      "outputs": [
        {
          "output_type": "stream",
          "name": "stdout",
          "text": [
            "Query: What are the impacts of AI on healthcare?\n",
            "P@5: 0.0\n",
            "P@6: 0.0\n",
            "P@10: 0.0\n",
            "\n",
            "Query: How does machine learning improve financial services?\n",
            "P@5: 0.0\n",
            "P@6: 0.16666666666666666\n",
            "P@10: 0.1\n",
            "\n",
            "Query: What is the role of AI in autonomous vehicles?\n",
            "P@5: 0.0\n",
            "P@6: 0.0\n",
            "P@10: 0.0\n",
            "\n",
            "Query: Explain the applications of natural language processing.\n",
            "P@5: 0.0\n",
            "P@6: 0.0\n",
            "P@10: 0.0\n",
            "\n",
            "Query: How does robotics benefit from AI integration?\n",
            "P@5: 0.0\n",
            "P@6: 0.16666666666666666\n",
            "P@10: 0.1\n",
            "\n",
            "Query: What are the challenges in implementing AI in education?\n",
            "P@5: 0.0\n",
            "P@6: 0.0\n",
            "P@10: 0.1\n",
            "\n",
            "Query: How does data science contribute to climate change predictions?\n",
            "P@5: 0.0\n",
            "P@6: 0.0\n",
            "P@10: 0.1\n",
            "\n",
            "Query: What are the ethical considerations in AI development?\n",
            "P@5: 0.0\n",
            "P@6: 0.0\n",
            "P@10: 0.0\n",
            "\n",
            "Query: Explain the significance of AI in smart cities.\n",
            "P@5: 0.2\n",
            "P@6: 0.16666666666666666\n",
            "P@10: 0.3\n",
            "\n",
            "Query: How does AI enhance cybersecurity measures?\n",
            "P@5: 0.0\n",
            "P@6: 0.0\n",
            "P@10: 0.2\n",
            "\n",
            "Mean Average Precision (MAP): 0.023694255479969763\n",
            "Mean Reciprocal Rank (MRR): 0.14916666666666667\n"
          ]
        }
      ],
      "source": [
        "## TODO: Implement your solution for part 1\n",
        "\n",
        "import numpy as np\n",
        "from sklearn.feature_extraction.text import TfidfVectorizer\n",
        "from sklearn.metrics.pairwise import cosine_similarity\n",
        "\n",
        "# Preprocessing and TF-IDF calculation\n",
        "tfidf_vectorizer = TfidfVectorizer()\n",
        "tfidf_matrix = tfidf_vectorizer.fit_transform(documents)\n",
        "queries_tfidf = tfidf_vectorizer.transform(queries)\n",
        "\n",
        "# Cosine similarity calculation and ranking\n",
        "ranked_docs = []\n",
        "for query_tfidf in queries_tfidf:\n",
        "    similarities = cosine_similarity(query_tfidf, tfidf_matrix).flatten()\n",
        "    ranked_indices = np.argsort(similarities)[::-1]  # Sort indices by descending order of similarity\n",
        "    ranked_docs.append(ranked_indices)\n",
        "\n",
        "# Evaluation\n",
        "k_values = [5, 6, 10]\n",
        "precisions_at_k = []\n",
        "mean_average_precision = 0\n",
        "mean_reciprocal_rank = 0\n",
        "\n",
        "for i, ranked_indices in enumerate(ranked_docs):\n",
        "    precisions = []\n",
        "    reciprocal_rank = 0\n",
        "    relevant_count = 0\n",
        "    average_precision = 0\n",
        "\n",
        "    for k in k_values:\n",
        "        relevant_docs = set(ground_truth[i][:k])\n",
        "        retrieved_docs = set(ranked_indices[:k])\n",
        "        precision = len(relevant_docs.intersection(retrieved_docs)) / k\n",
        "        precisions.append(precision)\n",
        "\n",
        "        # Calculate Average Precision\n",
        "        relevant_count += len(relevant_docs)\n",
        "        retrieved_count = 0\n",
        "        for j, doc_index in enumerate(ranked_indices[:k]):\n",
        "            if doc_index in relevant_docs:\n",
        "                retrieved_count += 1\n",
        "                average_precision += retrieved_count / (j + 1)\n",
        "\n",
        "        # Calculate Reciprocal Rank\n",
        "        if reciprocal_rank == 0:\n",
        "            for j, doc_index in enumerate(ranked_indices[:k]):\n",
        "                if doc_index in relevant_docs:\n",
        "                    reciprocal_rank = 1 / (j + 1)\n",
        "                    break\n",
        "\n",
        "    mean_average_precision += average_precision / relevant_count\n",
        "    mean_reciprocal_rank += reciprocal_rank\n",
        "    precisions_at_k.append(precisions)\n",
        "\n",
        "mean_average_precision /= len(queries)\n",
        "mean_reciprocal_rank /= len(queries)\n",
        "\n",
        "# Display results\n",
        "for i, query in enumerate(queries):\n",
        "    print(f\"Query: {query}\")\n",
        "    for j, k in enumerate(k_values):\n",
        "        print(f\"P@{k}: {precisions_at_k[i][j]}\")\n",
        "    print()\n",
        "\n",
        "print(f\"Mean Average Precision (MAP): {mean_average_precision}\")\n",
        "print(f\"Mean Reciprocal Rank (MRR): {mean_reciprocal_rank}\")\n"
      ]
    },
    {
      "cell_type": "markdown",
      "source": [
        "**Insights**\n",
        "\n",
        "**Sparse Relevance:** Most queries have no relevant documents in the top K retrievals, indicating a challenge in accurately retrieving relevant information.\n",
        "\n",
        "**Varied Precision:** Precision at different K values varies widely across queries, suggesting that the effectiveness of retrieval differs based on query characteristics.\n",
        "\n",
        "**Mean Average Precision (MAP):** The overall MAP score is low (0.024), indicating that the system's average precision across all queries is modest.\n",
        "\n",
        "**Mean Reciprocal Rank (MRR):** The MRR score (0.149) suggests that relevant documents are, on average, ranked relatively far down the list, indicating room for improvement in ranking accuracy.\n",
        "\n",
        "**Room for Improvement:** The system may benefit from enhancements in relevance modeling, query expansion techniques, or algorithmic improvements to better capture document relevance.\n",
        "\n",
        "\n",
        "**Overall**, the retrieval system's performance needs improvement, as indicated by low precision scores and modest MAP and MRR values. Strategies for enhancement include refining the document collection, optimizing algorithms, utilizing query expansion and relevance feedback, incorporating domain-specific knowledge, and adopting advanced evaluation metrics.\n"
      ],
      "metadata": {
        "id": "Xc9VQxKDwOyE"
      }
    },
    {
      "cell_type": "markdown",
      "metadata": {
        "id": "wyopM1rIqua7"
      },
      "source": [
        "-------------------------------------------------------------------\n",
        "- Part 2"
      ]
    },
    {
      "cell_type": "code",
      "execution_count": 12,
      "metadata": {
        "id": "Abpl0Tkpqua7"
      },
      "outputs": [],
      "source": [
        "# 0 is not relevant, 1 is relevant\n",
        "annotator1_relevance = [1, 0, 1, 0, 1, 1, 0, 0, 1, 0]\n",
        "annotator2_relevance = [1, 1, 1, 0, 1, 0, 0, 1, 1, 1]\n",
        "annotator3_relevance = [1, 0, 0, 0, 1, 0, 0, 1, 1, 0]"
      ]
    },
    {
      "cell_type": "code",
      "execution_count": 13,
      "metadata": {
        "colab": {
          "base_uri": "https://localhost:8080/"
        },
        "id": "m-ZBVzl7qua7",
        "outputId": "3d300fc5-b3ab-474b-abbb-e80f869262cd"
      },
      "outputs": [
        {
          "output_type": "stream",
          "name": "stdout",
          "text": [
            "Cohen's Kappa between Annotator 1 and Annotator 2: 0.19999999999999996\n",
            "Cohen's Kappa between Annotator 1 and Annotator 3: 0.4\n",
            "Cohen's Kappa between Annotator 2 and Annotator 3: 0.44444444444444453\n"
          ]
        }
      ],
      "source": [
        "## TODO: Implement your solution for part 2\n",
        "\n",
        "from sklearn.metrics import cohen_kappa_score\n",
        "\n",
        "# Compute pairwise Cohen's Kappa values\n",
        "kappa_1_2 = cohen_kappa_score(annotator1_relevance, annotator2_relevance)\n",
        "kappa_1_3 = cohen_kappa_score(annotator1_relevance, annotator3_relevance)\n",
        "kappa_2_3 = cohen_kappa_score(annotator2_relevance, annotator3_relevance)\n",
        "\n",
        "print(\"Cohen's Kappa between Annotator 1 and Annotator 2:\", kappa_1_2)\n",
        "print(\"Cohen's Kappa between Annotator 1 and Annotator 3:\", kappa_1_3)\n",
        "print(\"Cohen's Kappa between Annotator 2 and Annotator 3:\", kappa_2_3)\n"
      ]
    },
    {
      "cell_type": "markdown",
      "source": [
        "**Insights**\n",
        "\n",
        "**Cohen's Kappa Between Annotator 1 and Annotator 2:** The Kappa value of approximately 0.20 indicates slight agreement between annotator 1 and annotator 2. This suggests that their relevance assessments align only to a small extent beyond what would be expected by chance alone. There may be discrepancies or inconsistencies in their judgments, indicating the need for further examination or refinement of annotation guidelines.\n",
        "\n",
        "**Cohen's Kappa Between Annotator 1 and Annotator 3:** With a Kappa value of 0.40, there is fair agreement between annotator 1 and annotator 3. This implies a moderate level of alignment in their relevance assessments, indicating that their judgments are more consistent compared to the previous pair. However, there is still room for improvement to achieve higher levels of agreement.\n",
        "\n",
        "**Cohen's Kappa Between Annotator 2 and Annotator 3:**The Kappa value of approximately 0.44 indicates moderate agreement between annotator 2 and annotator 3. This suggests a relatively stronger alignment in their relevance assessments compared to the other pairs of annotators. Their judgments exhibit a more consistent pattern, although there may still be some areas of discrepancy.\n",
        "\n",
        "**Overall**, while there are varying levels of agreement between pairs of annotators, none of the Kappa values indicate substantial or almost perfect agreement. This underscores the importance of assessing and addressing factors contributing to discrepancies in relevance assessments, such as clarifying annotation guidelines, providing additional training to annotators, or refining the annotation process to improve overall consistency and reliability.\n",
        "\n",
        "\n",
        "\n",
        "\n",
        "\n"
      ],
      "metadata": {
        "id": "jDLX3Fc2zpdh"
      }
    }
  ],
  "metadata": {
    "kernelspec": {
      "display_name": "Python 3",
      "language": "python",
      "name": "python3"
    },
    "language_info": {
      "codemirror_mode": {
        "name": "ipython",
        "version": 3
      },
      "file_extension": ".py",
      "mimetype": "text/x-python",
      "name": "python",
      "nbconvert_exporter": "python",
      "pygments_lexer": "ipython3",
      "version": "3.7.7"
    },
    "colab": {
      "provenance": []
    }
  },
  "nbformat": 4,
  "nbformat_minor": 0
}