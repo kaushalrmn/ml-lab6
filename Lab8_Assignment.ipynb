{
 "cells": [
  {
   "cell_type": "markdown",
   "metadata": {},
   "source": [
    "## Lab8 Assignment Task PROG8245 - NLP Introduction"
   ]
  },
  {
   "cell_type": "markdown",
   "metadata": {},
   "source": [
    "### Name: Ramandeep Kaur\n",
    "### ID: 8976849"
   ]
  },
  {
   "cell_type": "markdown",
   "metadata": {},
   "source": [
    "Using the discussed topic in class for tokenizers, stop-word removal, stemming/lemmatization, and POS Tagging. <br><br>\n",
    "Create **ONE** function, that takes as an input a string, and returns the output of a string after stemming/lemmatization.<br><br>\n",
    "**Kindly note that you are required to consider the POS Tag while doing your stemming or lemmatization step (you should use whatever is more suitable for this task)** <br><br>\n",
    "After creating the function, you need to run your function on 10 **Random** files from reuters corpus, an example of how to download and load a file of reuters corpus is below. <br><br>\n",
    "**Your 10 **Random** files should be retrieved by getting a random array of length 10 which picks numbers RANDOMLY from 0 to len(reuters.fileids()), then the elements retrieved will be your corpus.<br> <br>*You need to set your Seed to be Equal to the last 3 digits in your studentID.*<br>** If your ID is 8000888 then seed =888 <br>\n",
    "**You may need to tailor your task based on the dataset to remove some special characters.**\n",
    " "
   ]
  },
  {
   "cell_type": "markdown",
   "metadata": {},
   "source": [
    "#### Last Step\n",
    "After finishing your code, run your code and save the result in a python dictionary, which would be of format:<br>\n",
    "{DocumentID: [List of Words], <br>\n",
    "...} <br>\n",
    "Save your python dictionary as a JSON file, or Pickle file. <br>\n",
    "A sample code for saving a python dictionary is available at the end of this notebook.<br>\n"
   ]
  },
  {
   "cell_type": "code",
   "execution_count": 115,
   "metadata": {},
   "outputs": [
    {
     "name": "stderr",
     "output_type": "stream",
     "text": [
      "[nltk_data] Downloading package reuters to\n",
      "[nltk_data]     C:\\Users\\raman\\AppData\\Roaming\\nltk_data...\n",
      "[nltk_data]   Package reuters is already up-to-date!\n"
     ]
    },
    {
     "data": {
      "text/plain": [
       "10788"
      ]
     },
     "execution_count": 115,
     "metadata": {},
     "output_type": "execute_result"
    }
   ],
   "source": [
    "import nltk\n",
    "from nltk.corpus import reuters\n",
    "nltk.download('reuters') #downloading reuters corpus\n",
    "len(reuters.fileids()) #checking how many files are there"
   ]
  },
  {
   "cell_type": "code",
   "execution_count": 116,
   "metadata": {},
   "outputs": [
    {
     "name": "stdout",
     "output_type": "stream",
     "text": [
      "FRENCH FREE MARKET CEREAL EXPORT BIDS DETAILED\n",
      "  French operators have requested licences\n",
      "  to export 675,500 tonnes of maize, 245,000 tonnes of barley,\n",
      "  22,000 tonnes of soft bread wheat and 20,000 tonnes of feed\n",
      "  wheat at today's European Community tender, traders said.\n",
      "      Rebates requested ranged from 127.75 to 132.50 European\n",
      "  Currency Units a tonne for maize, 136.00 to 141.00 Ecus a tonne\n",
      "  for barley and 134.25 to 141.81 Ecus for bread wheat, while\n",
      "  rebates requested for feed wheat were 137.65 Ecus, they said.\n",
      "  \n",
      "\n",
      "\n"
     ]
    }
   ],
   "source": [
    "doc_id = 'training/9865'\n",
    "text = reuters.raw(doc_id)  # reading a sample file from reuters\n",
    "print(text)\n"
   ]
  },
  {
   "cell_type": "code",
   "execution_count": 117,
   "metadata": {},
   "outputs": [],
   "source": [
    "def nlp_preprocess(sample_paragraph):\n",
    "    # This function should return list of tokens after applying NLP Tasks explained above\n",
    "    return [] "
   ]
  },
  {
   "cell_type": "markdown",
   "metadata": {},
   "source": [
    "Saving python dictionary:\n"
   ]
  },
  {
   "cell_type": "code",
   "execution_count": 118,
   "metadata": {},
   "outputs": [],
   "source": [
    "import pickle\n",
    "\n",
    "my_dict = {\"training/9865\": ['fear','trade', 'raise','Asia', 'export']}\n",
    "# Save the dictionary to a file using Pickle\n",
    "with open('output.pkl', 'wb') as file:\n",
    "    pickle.dump(my_dict, file)"
   ]
  },
  {
   "cell_type": "code",
   "execution_count": 119,
   "metadata": {},
   "outputs": [
    {
     "name": "stdout",
     "output_type": "stream",
     "text": [
      "{'training/9865': ['fear', 'trade', 'raise', 'Asia', 'export']}\n"
     ]
    }
   ],
   "source": [
    "# to read the pkl file:\n",
    "\n",
    "with open('output.pkl', 'rb') as file:\n",
    "    loaded_dict = pickle.load(file)\n",
    "    \n",
    "# Print the dictionary\n",
    "print(loaded_dict)"
   ]
  },
  {
   "cell_type": "code",
   "execution_count": null,
   "metadata": {},
   "outputs": [],
   "source": []
  },
  {
   "cell_type": "code",
   "execution_count": 120,
   "metadata": {},
   "outputs": [],
   "source": [
    "def nlp_preprocess(sample_paragraph):\n",
    "    # This function should return list of tokens after applying NLP Tasks explained above\n",
    "    return [] "
   ]
  },
  {
   "attachments": {},
   "cell_type": "markdown",
   "metadata": {},
   "source": [
    "Saving python dictionary:\n"
   ]
  },
  {
   "cell_type": "code",
   "execution_count": 121,
   "metadata": {},
   "outputs": [],
   "source": [
    "import pickle\n",
    "\n",
    "my_dict = {\"training/9865\": ['fear','trade', 'raise','Asia', 'export']}\n",
    "# Save the dictionary to a file using Pickle\n",
    "with open('output.pkl', 'wb') as file:\n",
    "    pickle.dump(my_dict, file)"
   ]
  },
  {
   "cell_type": "code",
   "execution_count": 122,
   "metadata": {},
   "outputs": [
    {
     "name": "stdout",
     "output_type": "stream",
     "text": [
      "{'training/9865': ['fear', 'trade', 'raise', 'Asia', 'export']}\n"
     ]
    }
   ],
   "source": [
    "# to read the pkl file:\n",
    "\n",
    "with open('output.pkl', 'rb') as file:\n",
    "    loaded_dict = pickle.load(file)\n",
    "    \n",
    "# Print the dictionary\n",
    "print(loaded_dict)"
   ]
  },
  {
   "cell_type": "code",
   "execution_count": 123,
   "metadata": {},
   "outputs": [],
   "source": [
    "import nltk\n",
    "from nltk.tokenize import word_tokenize\n",
    "from nltk.corpus import stopwords\n",
    "from nltk.stem import WordNetLemmatizer\n",
    "from nltk import pos_tag\n",
    "import random"
   ]
  },
  {
   "cell_type": "code",
   "execution_count": 124,
   "metadata": {},
   "outputs": [
    {
     "name": "stderr",
     "output_type": "stream",
     "text": [
      "[nltk_data] Downloading package punkt to\n",
      "[nltk_data]     C:\\Users\\raman\\AppData\\Roaming\\nltk_data...\n",
      "[nltk_data]   Package punkt is already up-to-date!\n",
      "[nltk_data] Downloading package stopwords to\n",
      "[nltk_data]     C:\\Users\\raman\\AppData\\Roaming\\nltk_data...\n",
      "[nltk_data]   Package stopwords is already up-to-date!\n",
      "[nltk_data] Downloading package averaged_perceptron_tagger to\n",
      "[nltk_data]     C:\\Users\\raman\\AppData\\Roaming\\nltk_data...\n",
      "[nltk_data]   Package averaged_perceptron_tagger is already up-to-\n",
      "[nltk_data]       date!\n",
      "[nltk_data] Downloading package wordnet to\n",
      "[nltk_data]     C:\\Users\\raman\\AppData\\Roaming\\nltk_data...\n",
      "[nltk_data]   Package wordnet is already up-to-date!\n"
     ]
    },
    {
     "data": {
      "text/plain": [
       "True"
      ]
     },
     "execution_count": 124,
     "metadata": {},
     "output_type": "execute_result"
    }
   ],
   "source": [
    "# Download NLTK resources \n",
    "nltk.download('punkt')\n",
    "nltk.download('stopwords')\n",
    "nltk.download('averaged_perceptron_tagger')\n",
    "nltk.download('wordnet')"
   ]
  },
  {
   "cell_type": "code",
   "execution_count": 125,
   "metadata": {},
   "outputs": [
    {
     "name": "stdout",
     "output_type": "stream",
     "text": [
      "Input Text: This is a crazy world\n",
      "Output Text after Preprocessing: crazy world\n"
     ]
    }
   ],
   "source": [
    "def preprocess_text(input_text):\n",
    "    # Tokenize the text\n",
    "    tokens = word_tokenize(input_text)\n",
    "    \n",
    "    # Remove stop words\n",
    "    stop_words = set(stopwords.words('english'))\n",
    "    tokens = [token for token in tokens if token.lower() not in stop_words]\n",
    "    \n",
    "    # Perform POS tagging\n",
    "    pos_tags = pos_tag(tokens)\n",
    "    \n",
    "    # Lemmatize based on POS tags\n",
    "    lemmatizer = WordNetLemmatizer()\n",
    "    lemmatized_tokens = [lemmatizer.lemmatize(token, pos=get_wordnet_pos(pos_tag))\n",
    "                         for token, pos_tag in pos_tags]\n",
    "    \n",
    "    # Join the lemmatized tokens back into a string\n",
    "    output_text = ' '.join(lemmatized_tokens)\n",
    "    \n",
    "    return output_text\n",
    "\n",
    "def get_wordnet_pos(treebank_tag):\n",
    "    if treebank_tag.startswith('J'):\n",
    "        return 'a'  # Adjective\n",
    "    elif treebank_tag.startswith('V'):\n",
    "        return 'v'  # Verb\n",
    "    elif treebank_tag.startswith('N'):\n",
    "        return 'n'  # Noun\n",
    "    elif treebank_tag.startswith('R'):\n",
    "        return 'r'  # Adverb\n",
    "    else:\n",
    "        return 'n'  # Default to noun\n",
    "\n",
    "# Example usage\n",
    "input_string = input('Please enter your string : ')\n",
    "#input_string = \"This is an example sentence with some interesting words.\"\n",
    "output_string = preprocess_text(input_string)\n",
    "print(\"Input Text:\", input_string)\n",
    "print(\"Output Text after Preprocessing:\", output_string)"
   ]
  },
  {
   "cell_type": "code",
   "execution_count": 126,
   "metadata": {},
   "outputs": [
    {
     "name": "stdout",
     "output_type": "stream",
     "text": [
      "File ID: test/16225\n",
      "Processed Text: PAKISTAN CONFIRMS KENYA TEA IMPORT INVESTIGATION Pakistan 's Corporate Law Authority , CLA , begin e...\n",
      "==================================================\n",
      "File ID: test/16551\n",
      "Processed Text: SPEARHEAD INDUSTRIES INC & lt ; SPRH.O > 3RD QTR NET Periods end Feb 28 Shr 22 ct vs 30 ct Net 549,0...\n",
      "==================================================\n",
      "File ID: training/12345\n",
      "Processed Text: M.D.C. HOLDINGS & lt ; MDC > SELLS ENERGY UNIT M.D.C. Holdings Inc say sell substantially asset oil ...\n",
      "==================================================\n",
      "File ID: training/3435\n",
      "Processed Text: AUSTRALIAN RESERVE BANK BUYING INTERVENTION Reserve Bank say 1230 local time offer buy short-dated g...\n",
      "==================================================\n",
      "File ID: training/12288\n",
      "Processed Text: STRAWBRIDGE & lt ; STRW > DECLARES STOCK DIVIDEND Strawbridge Clothier say board declare seven pct s...\n",
      "==================================================\n",
      "File ID: training/311\n",
      "Processed Text: ATPC MEMBERS FIND WAYS CURB TIN EXPORTS Mine industry official member state Association Tin Producin...\n",
      "==================================================\n",
      "File ID: test/17834\n",
      "Processed Text: CHARTER POWER SYSTEMS INC & lt ; CHP > 1ST QTR Shr 11 ct vs 21 ct Net 563,000 v 863,00 Revs 28.8 mln...\n",
      "==================================================\n",
      "File ID: training/1871\n",
      "Processed Text: HOUSE TRADE BILL DRAFTING POSTPONED House Ways Means trade subcommittee postpone next week open sess...\n",
      "==================================================\n",
      "File ID: test/20558\n",
      "Processed Text: CONSOLIDATED FIBRES INC & lt ; CFIB.O > 1ST QTR NET Qtr end Sept 30 Shr 40 ct vs 20 ct Net 797,000 v...\n",
      "==================================================\n",
      "File ID: training/9667\n",
      "Processed Text: COST PIK CERTIFICATES EYED CONGRESS Congress , eager find budget saving , launch review U.S. Agricul...\n",
      "==================================================\n"
     ]
    }
   ],
   "source": [
    "\n",
    "\n",
    "# Set the seed based on the last 3 digits of my student ID\n",
    "seed = 897\n",
    "random.seed(seed)\n",
    "\n",
    "def preprocess_text(input_text):\n",
    "    # Tokenize the text\n",
    "    tokens = word_tokenize(input_text)\n",
    "    \n",
    "    # Remove stop words\n",
    "    stop_words = set(stopwords.words('english'))\n",
    "    tokens = [token for token in tokens if token.lower() not in stop_words]\n",
    "    \n",
    "    # Perform POS tagging\n",
    "    pos_tags = pos_tag(tokens)\n",
    "    \n",
    "    # Lemmatize based on POS tags\n",
    "    lemmatizer = WordNetLemmatizer()\n",
    "    lemmatized_tokens = [lemmatizer.lemmatize(token, pos=get_wordnet_pos(pos_tag))\n",
    "                         for token, pos_tag in pos_tags]\n",
    "    \n",
    "    # Join the lemmatized tokens back into a string\n",
    "    output_text = ' '.join(lemmatized_tokens)\n",
    "    \n",
    "    return output_text\n",
    "\n",
    "def get_wordnet_pos(treebank_tag):\n",
    "    if treebank_tag.startswith('J'):\n",
    "        return 'a'  # Adjective\n",
    "    elif treebank_tag.startswith('V'):\n",
    "        return 'v'  # Verb\n",
    "    elif treebank_tag.startswith('N'):\n",
    "        return 'n'  # Noun\n",
    "    elif treebank_tag.startswith('R'):\n",
    "        return 'r'  # Adverb\n",
    "    else:\n",
    "        return 'n'  # Default to noun\n",
    "\n",
    "# Get 10 random files from the Reuters corpus\n",
    "random_files = random.sample(reuters.fileids(), 10)\n",
    "\n",
    "dict_output = {}\n",
    "\n",
    "# Process each random file\n",
    "for file_id in random_files:\n",
    "    raw_text = reuters.raw(file_id)\n",
    "    processed_text = preprocess_text(raw_text)\n",
    "    dict_output[file_id] = processed_text[:100]\n",
    "    print(f\"File ID: {file_id}\")\n",
    "    print(f\"Processed Text: {processed_text[:100]}...\")  # Displaying the first 100 characters for brevity\n",
    "    print(\"=\"*50)\n",
    "\n",
    "with open('output.json', 'w') as f:\n",
    "    json.dump(dict_output, f)\n"
   ]
  }
 ],
 "metadata": {
  "kernelspec": {
   "display_name": "Python 3",
   "language": "python",
   "name": "python3"
  },
  "language_info": {
   "codemirror_mode": {
    "name": "ipython",
    "version": 3
   },
   "file_extension": ".py",
   "mimetype": "text/x-python",
   "name": "python",
   "nbconvert_exporter": "python",
   "pygments_lexer": "ipython3",
   "version": "3.12.1"
  },
  "orig_nbformat": 4
 },
 "nbformat": 4,
 "nbformat_minor": 2
}
